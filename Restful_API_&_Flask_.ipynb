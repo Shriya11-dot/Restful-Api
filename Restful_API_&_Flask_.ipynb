{
  "cells": [
    {
      "cell_type": "markdown",
      "metadata": {
        "id": "aONqmnZf_OEN"
      },
      "source": [
        "**THEORY QUESTION**"
      ]
    },
    {
      "cell_type": "markdown",
      "metadata": {
        "id": "ytFRHnHI5KDC"
      },
      "source": [
        "1.  What is a RESTful API?\n",
        "\n",
        "Ans- A **RESTful API** (Representational State Transfer API) is a way for different software systems to **communicate over the internet** using standard web methods.\n",
        "\n",
        "### In simple words:\n",
        "\n",
        "1. **It lets apps talk to each other** — like how your phone app fetches weather or sends a message.\n",
        "\n",
        "2. It uses **HTTP methods** like:\n",
        "\n",
        "   * **GET** (to read data)\n",
        "   * **POST** (to create data)\n",
        "   * **PUT/PATCH** (to update data)\n",
        "   * **DELETE** (to remove data)\n",
        "\n",
        "3. Data is usually sent and received in **JSON** format.\n",
        "\n",
        "4. It is **stateless**, meaning every request is independent and doesn't remember previous ones.\n",
        "\n",
        "5. REST APIs are used in **websites, mobile apps, cloud services**, and more.\n",
        "*italicized text*\n",
        "\n",
        "### In short:\n",
        "\n",
        "A **RESTful API** is like a **messenger** that lets different programs exchange data using simple web rules.\n"
      ]
    },
    {
      "cell_type": "markdown",
      "metadata": {
        "id": "2pl9h24I5lh4"
      },
      "source": [
        "2. Explain the concept of API specification.\n",
        "\n",
        "Ans-  **API Specification – Simple Explanation**\n",
        "\n",
        "An **API specification** is like a **blueprint** or **instruction manual** that clearly defines **how a software or service communicates with others**.\n",
        "\n",
        "\n",
        "###  What it does:\n",
        "\n",
        "1. **Describes what an API can do** – like what data you can send or get.\n",
        "2. **Defines the rules** – such as endpoints, methods (GET, POST, etc.), request formats, and response formats.\n",
        "3. **Helps developers understand how to use the API** without needing to read its internal code.\n",
        "\n",
        "\n",
        "###  What's included in an API specification:\n",
        "\n",
        "* **Endpoints**: URLs you send requests to (e.g., `/users`, `/products/123`)\n",
        "* **Methods**: Actions like GET, POST, PUT, DELETE\n",
        "* **Parameters**: Extra details sent with requests (like filters, IDs)\n",
        "* **Request format**: What kind of data to send (usually JSON)\n",
        "* **Response format**: What kind of data you get back\n",
        "* **Error codes**: What errors can happen and what they mean\n",
        "\n",
        "\n",
        "###  Common Tools for Writing API Specs:\n",
        "\n",
        "* **OpenAPI / Swagger** (most popular)\n",
        "* **RAML**\n",
        "* **API Blueprint**\n",
        "\n",
        "\n",
        "### In short:\n",
        "\n",
        "An **API specification** is a **clear guide that tells developers exactly how to connect with an API**, what to expect, and how to use it correctly.\n"
      ]
    },
    {
      "cell_type": "markdown",
      "metadata": {
        "id": "8dfakO9-58bm"
      },
      "source": [
        "3. What is Flask, and why is it popular for building APIs?\n",
        "\n",
        "Ans-\n",
        "**Flask** is a **lightweight web framework** in Python used to build **web applications and APIs**.\n",
        "\n",
        "\n",
        "###  Why is Flask popular for building APIs?\n",
        "\n",
        "1. **Simple and easy to learn**\n",
        "\n",
        "   * Great for beginners and quick projects.\n",
        "\n",
        "2. **Minimalist**\n",
        "\n",
        "   * Gives you the essentials — you add only what you need.\n",
        "\n",
        "3. **Flexible**\n",
        "\n",
        "   * No strict rules — you can design your API your way.\n",
        "\n",
        "4. **Fast for prototyping**\n",
        "\n",
        "   * Ideal for quickly building and testing small to medium APIs.\n",
        "\n",
        "5. **Built-in development server**\n",
        "\n",
        "   * You don’t need extra tools to start testing your API.\n",
        "\n",
        "6. **Large community and documentation**\n",
        "\n",
        "   * Easy to find help, examples, and plugins.\n",
        "\n",
        "7. **Works well with other tools**\n",
        "\n",
        "   * Can easily integrate with databases, authentication systems, and frontend frameworks.\n",
        "\n",
        "\n",
        "###  In short:\n",
        "\n",
        "**Flask** is popular because it’s **simple, flexible, and efficient**, making it a top choice for building **RESTful APIs** in Python.\n"
      ]
    },
    {
      "cell_type": "markdown",
      "metadata": {
        "id": "w1tSLrze6XHm"
      },
      "source": [
        "4. What is routing in Flask?\n",
        "\n",
        "Ans- Routing in Flask is the process of defining how URLs are handled by the application. It maps specific URL patterns to functions, called view functions, which return the response to the client. Each route is associated with a particular endpoint, and when a user accesses that URL, Flask calls the corresponding function to generate the content. Routing helps organize the application and control what content is shown for different web addresses.\n"
      ]
    },
    {
      "cell_type": "markdown",
      "metadata": {
        "id": "zc3KIUpG7AIN"
      },
      "source": [
        "5. How do you create a simple Flask application?\n",
        "\n",
        "Ans- To create a simple Flask application, you follow these basic steps:\n",
        "\n",
        "1. **Install Flask** using a package manager like `pip`.\n",
        "2. **Import Flask** into your Python file.\n",
        "3. **Create a Flask app object** to initialize the application.\n",
        "4. **Define routes** to specify what should happen when a user visits a specific URL.\n",
        "5. **Run the application** using the app’s run method to start the development server.\n",
        "\n",
        "This setup allows you to handle web requests and return responses through defined functions.\n"
      ]
    },
    {
      "cell_type": "markdown",
      "metadata": {
        "id": "PR6Med4w7QDT"
      },
      "source": [
        "6. What are HTTP methods used in RESTful APIs?\n",
        "\n",
        "Ans- The main HTTP methods used in RESTful APIs are:\n",
        "\n",
        "1. **GET** – Retrieves data from the server.\n",
        "2. **POST** – Sends new data to the server to create a resource.\n",
        "3. **PUT** – Updates an existing resource with new data.\n",
        "4. **DELETE** – Removes a resource from the server.\n",
        "5. **PATCH** – Partially updates a resource with some data.\n",
        "6. **OPTIONS** – Describes the communication options for the target resource.\n",
        "\n",
        "Each method represents a specific action and helps maintain a clear structure in RESTful communication.\n"
      ]
    },
    {
      "cell_type": "markdown",
      "metadata": {
        "id": "Z76gVPh57Z6B"
      },
      "source": [
        "6. What is the purpose of the @app.route() decorator in Flask?\n",
        "\n",
        "Ans- The `@app.route()` decorator in Flask is used to bind a specific URL path to a function. It tells Flask which function should be executed when a user visits that URL. This is how routing is handled in Flask, allowing you to define different responses for different web addresses in your application.\n"
      ]
    },
    {
      "cell_type": "markdown",
      "metadata": {
        "id": "G5JD7l6r7lEa"
      },
      "source": [
        "7.  What is the difference between GET and POST HTTP methods?\n",
        "\n",
        "Ans- The main differences between **GET** and **POST** HTTP methods are:\n",
        "\n",
        "1. **Purpose**:\n",
        "\n",
        "   * **GET** is used to **retrieve data** from the server.\n",
        "   * **POST** is used to **send data** to the server to **create or update** a resource.\n",
        "\n",
        "2. **Data Visibility**:\n",
        "\n",
        "   * **GET** sends data in the **URL**, making it **visible**.\n",
        "   * **POST** sends data in the **request body**, making it **hidden** from the URL.\n",
        "\n",
        "3. **Security**:\n",
        "\n",
        "   * **GET** is **less secure** for sensitive data (e.g., passwords).\n",
        "   * **POST** is **more secure** for sending sensitive data.\n",
        "\n",
        "4. **Caching**:\n",
        "\n",
        "   * **GET** requests can be **cached** by browsers.\n",
        "   * **POST** requests are **not cached** by default.\n",
        "\n",
        "5. **Use Cases**:\n",
        "\n",
        "   * Use **GET** for reading data (e.g., search, view pages).\n",
        "   * Use **POST** for submitting forms, uploading files, or making changes.\n"
      ]
    },
    {
      "cell_type": "markdown",
      "metadata": {
        "id": "_8HUB-DC7v3X"
      },
      "source": [
        "9.  How do you handle errors in Flask APIs?\n",
        "\n",
        "Ans- Errors in Flask APIs are handled using:\n",
        "\n",
        "1. **Error Handlers** – You can define custom functions for specific error codes using `@app.errorhandler()`.\n",
        "2. **Try-Except Blocks** – Used to catch exceptions within functions and return meaningful responses.\n",
        "3. **HTTP Status Codes** – Send appropriate status codes (like 404, 400, 500) in the response to indicate the type of error.\n",
        "4. **JSON Error Responses** – Return structured error messages in JSON format to help the client understand the issue.\n",
        "5. **Logging** – Log errors for debugging and monitoring purposes.\n",
        "\n",
        "These practices help improve API reliability and user experience.\n"
      ]
    },
    {
      "cell_type": "markdown",
      "metadata": {
        "id": "gm-BDiSH75hK"
      },
      "source": [
        "10.  How do you connect Flask to a SQL database?\n",
        "\n",
        "Ans- To connect Flask to a SQL database, you typically follow these steps:\n",
        "\n",
        "1. **Choose a database** like SQLite, MySQL, or PostgreSQL.\n",
        "2. **Install a database connector** (e.g., `Flask-SQLAlchemy`).\n",
        "3. **Configure the database URI** in your Flask app settings.\n",
        "4. **Initialize the database extension** (like SQLAlchemy) with your Flask app.\n",
        "5. **Define models** to represent database tables.\n",
        "6. **Use methods** to create, read, update, and delete records from the database.\n",
        "\n",
        "This integration allows Flask to store and manage data efficiently.\n"
      ]
    },
    {
      "cell_type": "markdown",
      "metadata": {
        "id": "0llS4_Bt8Guw"
      },
      "source": [
        "11. What is the role of Flask-SQLAlchemy?\n",
        "\n",
        "Ans- **Flask-SQLAlchemy** is an extension that integrates SQLAlchemy with Flask to make database operations easier. Its main roles are:\n",
        "\n",
        "1. **Simplifies database setup** and connection in Flask apps.\n",
        "2. **Provides an Object Relational Mapper (ORM)** to interact with databases using Python classes instead of SQL.\n",
        "3. **Handles database sessions** and queries efficiently.\n",
        "4. **Supports multiple database types** like SQLite, MySQL, and PostgreSQL.\n",
        "5. **Integrates well with Flask features** like app configuration and request handling.\n",
        "\n",
        "It helps developers build and manage databases in a more Pythonic and organized way.\n"
      ]
    },
    {
      "cell_type": "markdown",
      "metadata": {
        "id": "9Urwao6h8T6v"
      },
      "source": [
        "12. What are Flask blueprints, and how are they useful?\n",
        "\n",
        "Ans- **Flask blueprints** are a way to organize a Flask application into smaller, reusable components.\n",
        "\n",
        "### They are useful because:\n",
        "\n",
        "1. **Modular Structure** – Help split the app into separate parts (e.g., auth, admin, blog).\n",
        "2. **Code Reusability** – You can reuse the same blueprint in different apps.\n",
        "3. **Better Organization** – Keep routes, templates, and static files organized.\n",
        "4. **Easier Maintenance** – Makes large applications easier to manage and scale.\n",
        "5. **Central Registration** – All blueprints are registered in the main app file, giving a clear overview.\n",
        "\n",
        "Blueprints improve clarity and structure, especially in large Flask projects.\n"
      ]
    },
    {
      "cell_type": "markdown",
      "metadata": {
        "id": "-4Q-ur5o8qAG"
      },
      "source": [
        "13. What is the purpose of Flask's request object?\n",
        "\n",
        "Ans- The **Flask `request` object** is used to access data sent by the client to the server during an HTTP request.\n",
        "\n",
        "### Its main purposes are:\n",
        "\n",
        "1. **Retrieve form data** from POST requests.\n",
        "2. **Access query parameters** from the URL.\n",
        "3. **Get JSON data** sent in the request body.\n",
        "4. **Check request method** (GET, POST, etc.).\n",
        "5. **Access headers, cookies, and files** in the request.\n",
        "\n",
        "It helps the server understand and process what the client is asking for.\n"
      ]
    },
    {
      "cell_type": "markdown",
      "metadata": {
        "id": "1ZllpJ_R84Nr"
      },
      "source": [
        "14. How do you create a RESTful API endpoint using Flask?\n",
        "\n",
        "Ans- To create a RESTful API endpoint using Flask, you follow these basic steps:\n",
        "\n",
        "1. **Import Flask** and create an app instance.\n",
        "2. **Define a route** using `@app.route()` with the desired URL and HTTP methods (e.g., GET, POST).\n",
        "3. **Create a function** that handles the request and returns a response (often in JSON format).\n",
        "4. **Use the `request` object** to handle input data if needed.\n",
        "5. **Return appropriate status codes** along with responses.\n",
        "\n",
        "This setup allows your Flask app to serve as a RESTful API that clients can interact with using HTTP.\n"
      ]
    },
    {
      "cell_type": "markdown",
      "metadata": {
        "id": "vIJssVeS9FKT"
      },
      "source": [
        "15. What is the purpose of Flask's jsonify() function?\n",
        "\n",
        "Ans- The purpose of Flask's `jsonify()` function is to:\n",
        "\n",
        "1. **Convert Python data** (like dictionaries or lists) into a **JSON response**.\n",
        "2. **Set the correct MIME type** (`application/json`) for the response.\n",
        "3. **Make API responses easier and more reliable** for clients to understand.\n",
        "4. **Automatically handle character encoding and escaping** to ensure safety.\n",
        "\n",
        "It simplifies sending structured data from a Flask API to the client.\n"
      ]
    },
    {
      "cell_type": "markdown",
      "metadata": {
        "id": "bsMX_0am9TDz"
      },
      "source": [
        "16.  Explain Flask’s url_for() function.\n",
        "\n",
        "Ans- Flask’s `url_for()` function is used to **generate URLs dynamically** for a given function name (endpoint).\n",
        "\n",
        "### Its main purposes are:\n",
        "\n",
        "1. **Avoid hardcoding URLs** – Makes the app more flexible and maintainable.\n",
        "2. **Build URLs using route names** instead of manually typing paths.\n",
        "3. **Automatically updates URLs** if routes change.\n",
        "4. **Supports query parameters** by passing them as arguments.\n",
        "\n",
        "It helps manage routing efficiently and keeps the code clean and error-free.\n"
      ]
    },
    {
      "cell_type": "markdown",
      "metadata": {
        "id": "1BDEjj7q9kyg"
      },
      "source": [
        "17. How does Flask handle static files (CSS, JavaScript, etc.)?\n",
        "\n",
        "Ans- Flask handles static files (like **CSS, JavaScript, and images**) using a special **`static` folder**.\n",
        "\n",
        "### Here's how it works:\n",
        "\n",
        "1. **Place static files** in a folder named `static` in your project directory.\n",
        "2. Flask automatically serves these files at the URL path **`/static/`**.\n",
        "3. Use **`url_for('static', filename='yourfile.css')`** in templates to link them.\n",
        "4. No need to write separate routes for static files.\n",
        "\n",
        "This setup allows easy and organized management of front-end assets.\n"
      ]
    },
    {
      "cell_type": "markdown",
      "metadata": {
        "id": "woffrOed910N"
      },
      "source": [
        "18. What is an API specification, and how does it help in building a Flask API?\n",
        "\n",
        "Ans- An **API specification** is a detailed document that describes how an API should work, including its endpoints, request/response formats, methods, data types, and status codes.\n",
        "\n",
        "### It helps in building a Flask API by:\n",
        "\n",
        "1. **Providing a clear blueprint** for development.\n",
        "2. **Ensuring consistency** across all endpoints.\n",
        "3. **Helping front-end and back-end teams collaborate** effectively.\n",
        "4. **Improving documentation** for users and developers.\n",
        "5. **Enabling automatic testing and validation** of API behavior.\n",
        "\n",
        "It acts like a contract between the API and its consumers, making development faster and more reliable.\n"
      ]
    },
    {
      "cell_type": "markdown",
      "metadata": {
        "id": "LwmJxFia-MSm"
      },
      "source": [
        "19. What are HTTP status codes, and why are they important in a Flask API?\n",
        "\n",
        "Ans- **HTTP status codes** are standardized 3-digit numbers returned by a server to indicate the result of a client’s request.\n",
        "\n",
        "### They are important in a Flask API because:\n",
        "\n",
        "1. **Communicate request outcomes** (success, error, etc.) clearly to clients.\n",
        "2. **Help in debugging** by showing what went wrong (e.g., 404 Not Found, 500 Internal Server Error).\n",
        "3. **Guide client actions** (e.g., retry on 503, redirect on 302).\n",
        "4. **Improve user experience** with meaningful responses.\n",
        "5. **Enable proper handling** of responses in front-end or third-party apps.\n",
        "\n",
        "They make APIs predictable, informative, and easier to work with.\n"
      ]
    },
    {
      "cell_type": "markdown",
      "metadata": {
        "id": "viqQ18_S-YNH"
      },
      "source": [
        "20. How do you handle POST requests in Flask?\n",
        "\n",
        "Ans- To handle **POST requests** in Flask, you follow these steps:\n",
        "\n",
        "1. **Define a route** with the `methods=['POST']` argument.\n",
        "2. **Use the `request` object** to access data sent by the client (form data, JSON, etc.).\n",
        "3. **Process the data** (e.g., store it in a database or perform calculations).\n",
        "4. **Return a response** with a message and status code.\n",
        "\n",
        "This allows the server to receive and act on data sent from forms, APIs, or applications.\n"
      ]
    },
    {
      "cell_type": "markdown",
      "metadata": {
        "id": "Umk5BUPR-luK"
      },
      "source": [
        "21.  How would you secure a Flask API?\n",
        "\n",
        "Ans- To **secure a Flask API**, you can follow these key practices:\n",
        "\n",
        "1. **Use Authentication** – Implement API keys, tokens (like JWT), or OAuth to verify users.\n",
        "2. **Validate Input Data** – Check and sanitize all incoming data to prevent injection attacks.\n",
        "3. **Use HTTPS** – Encrypt communication between client and server.\n",
        "4. **Limit Request Rates** – Apply rate limiting to prevent abuse or DDoS attacks.\n",
        "5. **Enable CORS Carefully** – Control which domains can access your API.\n",
        "6. **Handle Errors Gracefully** – Avoid exposing sensitive server information.\n",
        "7. **Keep Dependencies Updated** – Use secure and up-to-date packages.\n",
        "8. **Use Flask Extensions** – Like `Flask-Login`, `Flask-JWT-Extended`, and `Flask-Limiter`.\n",
        "\n",
        "These steps help protect your API from unauthorized access and malicious activity.\n"
      ]
    },
    {
      "cell_type": "markdown",
      "metadata": {
        "id": "EI5HZltU-w78"
      },
      "source": [
        "22. What is the significance of the Flask-RESTful extension?\n",
        "\n",
        "Ans- The **Flask-RESTful** extension is significant because it simplifies the process of building **RESTful APIs** in Flask.\n",
        "\n",
        "### Its main benefits are:\n",
        "\n",
        "1. **Provides a structured way** to create API resources using classes.\n",
        "2. **Simplifies routing** by mapping HTTP methods (GET, POST, etc.) to class methods.\n",
        "3. **Includes helpful tools** like input parsing and request validation.\n",
        "4. **Improves code organization** and readability for larger APIs.\n",
        "5. **Makes API development faster** and more maintainable.\n",
        "\n",
        "It enhances Flask by offering a cleaner and more efficient way to build scalable REST APIs.\n"
      ]
    },
    {
      "cell_type": "markdown",
      "metadata": {
        "id": "N8w9kDF4-_NR"
      },
      "source": [
        "23.  What is the role of Flask’s session object?\n",
        "\n",
        "Ans- The **Flask `session` object** is used to **store data specific to a user across multiple requests**.\n",
        "\n",
        "### Its main roles are:\n",
        "\n",
        "1. **Maintain user state** (e.g., login status) between different pages.\n",
        "2. **Store temporary data** like user preferences or shopping cart items.\n",
        "3. **Securely save data** using cryptographic signing.\n",
        "4. **Simplify user experience** by remembering information during a session.\n",
        "\n",
        "It helps manage user interactions in a more personalized and continuous way.\n"
      ]
    },
    {
      "cell_type": "markdown",
      "metadata": {
        "id": "81s0lDx3_azE"
      },
      "source": [
        "**PRACTICAL QUESTION**"
      ]
    },
    {
      "cell_type": "code",
      "source": [
        "# 1. How do you create a basic Flask application?\n",
        "from flask import Flask, render_template\n",
        "\n",
        "app = Flask(__name__)\n",
        "\n",
        "@app.route(\"/\")\n",
        "def home():\n",
        "    return render_template(\"index.html\")\n",
        "\n",
        "if __name__ == \"__main__\":\n",
        "    app.run(debug=True)\n"
      ],
      "metadata": {
        "colab": {
          "base_uri": "https://localhost:8080/"
        },
        "id": "1gAhoMa6giB3",
        "outputId": "ff237d58-c74b-49a6-b885-4496faca849b"
      },
      "execution_count": null,
      "outputs": [
        {
          "output_type": "stream",
          "name": "stdout",
          "text": [
            " * Serving Flask app '__main__'\n",
            " * Debug mode: on\n"
          ]
        },
        {
          "output_type": "stream",
          "name": "stderr",
          "text": [
            "INFO:werkzeug:\u001b[31m\u001b[1mWARNING: This is a development server. Do not use it in a production deployment. Use a production WSGI server instead.\u001b[0m\n",
            " * Running on http://127.0.0.1:5000\n",
            "INFO:werkzeug:\u001b[33mPress CTRL+C to quit\u001b[0m\n",
            "INFO:werkzeug: * Restarting with stat\n"
          ]
        }
      ]
    },
    {
      "cell_type": "code",
      "source": [
        "# 2.  How do you serve static files like images or CSS in Flask?\n",
        "from flask import Flask, render_template\n",
        "\n",
        "app = Flask(__name__)\n",
        "\n",
        "@app.route(\"/\")\n",
        "def home():\n",
        "    return render_template(\"index.html\")\n",
        "\n",
        "if __name__ == \"__main__\":\n",
        "    app.run(debug=True)\n",
        "\n"
      ],
      "metadata": {
        "colab": {
          "base_uri": "https://localhost:8080/"
        },
        "id": "cBg5pjLygxjQ",
        "outputId": "89cee919-36bd-4811-d167-35f73ee299c3"
      },
      "execution_count": null,
      "outputs": [
        {
          "output_type": "stream",
          "name": "stdout",
          "text": [
            " * Serving Flask app '__main__'\n",
            " * Debug mode: on\n"
          ]
        },
        {
          "output_type": "stream",
          "name": "stderr",
          "text": [
            "INFO:werkzeug:\u001b[31m\u001b[1mWARNING: This is a development server. Do not use it in a production deployment. Use a production WSGI server instead.\u001b[0m\n",
            " * Running on http://127.0.0.1:5000\n",
            "INFO:werkzeug:\u001b[33mPress CTRL+C to quit\u001b[0m\n",
            "INFO:werkzeug: * Restarting with stat\n"
          ]
        }
      ]
    },
    {
      "cell_type": "code",
      "source": [
        "from flask import Flask\n",
        "app = Flask(__name__)\n",
        "\n",
        "@app.route('/')\n",
        "def home():\n",
        "    return \"Welcome to my Flask App!\"\n"
      ],
      "metadata": {
        "id": "47DXb8OTH_Lz"
      },
      "execution_count": null,
      "outputs": []
    },
    {
      "cell_type": "code",
      "source": [
        "Running on http://127.0.0.1:5000/\n"
      ],
      "metadata": {
        "colab": {
          "base_uri": "https://localhost:8080/",
          "height": 106
        },
        "id": "EK8jv1ShIEgl",
        "outputId": "2796ecfa-0b1a-426d-c158-3df37c571414"
      },
      "execution_count": null,
      "outputs": [
        {
          "output_type": "error",
          "ename": "SyntaxError",
          "evalue": "invalid syntax (ipython-input-5-2431995857.py, line 1)",
          "traceback": [
            "\u001b[0;36m  File \u001b[0;32m\"/tmp/ipython-input-5-2431995857.py\"\u001b[0;36m, line \u001b[0;32m1\u001b[0m\n\u001b[0;31m    Running on http://127.0.0.1:5000/\u001b[0m\n\u001b[0m            ^\u001b[0m\n\u001b[0;31mSyntaxError\u001b[0m\u001b[0;31m:\u001b[0m invalid syntax\n"
          ]
        }
      ]
    },
    {
      "cell_type": "code",
      "source": [
        "!pip install pyngrok\n"
      ],
      "metadata": {
        "colab": {
          "base_uri": "https://localhost:8080/"
        },
        "id": "f6mgzI816GcJ",
        "outputId": "dd2e0060-e348-49c7-8f6d-331f0c8494e6"
      },
      "execution_count": null,
      "outputs": [
        {
          "output_type": "stream",
          "name": "stdout",
          "text": [
            "Collecting pyngrok\n",
            "  Downloading pyngrok-7.2.12-py3-none-any.whl.metadata (9.4 kB)\n",
            "Requirement already satisfied: PyYAML>=5.1 in /usr/local/lib/python3.11/dist-packages (from pyngrok) (6.0.2)\n",
            "Downloading pyngrok-7.2.12-py3-none-any.whl (26 kB)\n",
            "Installing collected packages: pyngrok\n",
            "Successfully installed pyngrok-7.2.12\n"
          ]
        }
      ]
    },
    {
      "cell_type": "code",
      "source": [
        "from pyngrok import ngrok\n",
        "\n",
        "# Add your ngrok authtoken\n",
        "ngrok.set_auth_token(\"30HStDQoabj41hFW9HwMZ92YF8n_5jT838RGYaCwp6tsNh2mQ\")"
      ],
      "metadata": {
        "id": "9DkKHim_7gmJ"
      },
      "execution_count": null,
      "outputs": []
    },
    {
      "cell_type": "code",
      "source": [
        "from flask import Flask, request\n",
        "from pyngrok import ngrok\n",
        "\n",
        "# Initialize Flask app\n",
        "app = Flask(__name__)\n",
        "\n",
        "# Route for GET\n",
        "@app.route('/get', methods=['GET'])\n",
        "def get_example():\n",
        "    return \"This is a GET request!\"\n",
        "\n",
        "# Route for POST\n",
        "@app.route('/post', methods=['POST'])\n",
        "def post_example():\n",
        "    data = request.form.get('data')\n",
        "    return f\"You sent this data via POST: {data}\"\n",
        "\n",
        "# Route for GET and POST form\n",
        "@app.route('/login', methods=['GET', 'POST'])\n",
        "def login():\n",
        "    if request.method == 'POST':\n",
        "        username = request.form.get('username')\n",
        "        return f\"Welcome, {username}!\"\n",
        "    return '''\n",
        "        <form method=\"POST\">\n",
        "            Username: <input type=\"text\" name=\"username\">\n",
        "            <input type=\"submit\">\n",
        "        </form>\n",
        "    '''\n",
        "\n",
        "# Route for PUT\n",
        "@app.route('/put', methods=['PUT'])\n",
        "def put_example():\n",
        "    return \"This is a PUT request!\"\n",
        "\n",
        "# Route for DELETE\n",
        "@app.route('/delete', methods=['DELETE'])\n",
        "def delete_example():\n",
        "    return \"This is a DELETE request!\"\n",
        "\n",
        "# Open public URL using ngrok\n",
        "public_url = ngrok.connect(5000)\n",
        "print(\"🚀 Your Flask app is live at:\", public_url)\n",
        "\n",
        "# Run Flask app\n",
        "app.run()\n"
      ],
      "metadata": {
        "id": "o4EMrpk8DHNS",
        "colab": {
          "base_uri": "https://localhost:8080/"
        },
        "outputId": "34e0abe3-8ffc-4396-d709-4091c64dd821"
      },
      "execution_count": null,
      "outputs": [
        {
          "output_type": "stream",
          "name": "stdout",
          "text": [
            "🚀 Your Flask app is live at: NgrokTunnel: \"https://200a9e255348.ngrok-free.app\" -> \"http://localhost:5000\"\n",
            " * Serving Flask app '__main__'\n",
            " * Debug mode: off\n"
          ]
        },
        {
          "output_type": "stream",
          "name": "stderr",
          "text": [
            "INFO:werkzeug:\u001b[31m\u001b[1mWARNING: This is a development server. Do not use it in a production deployment. Use a production WSGI server instead.\u001b[0m\n",
            " * Running on http://127.0.0.1:5000\n",
            "INFO:werkzeug:\u001b[33mPress CTRL+C to quit\u001b[0m\n",
            "INFO:werkzeug:127.0.0.1 - - [27/Jul/2025 13:29:56] \"\u001b[33mGET / HTTP/1.1\u001b[0m\" 404 -\n",
            "INFO:werkzeug:127.0.0.1 - - [27/Jul/2025 13:29:59] \"\u001b[33mGET /favicon.ico HTTP/1.1\u001b[0m\" 404 -\n"
          ]
        }
      ]
    },
    {
      "cell_type": "code",
      "source": [
        "from flask import Flask\n",
        "from pyngrok import ngrok\n",
        "\n",
        "# Create Flask app\n",
        "app = Flask(_name_)\n",
        "\n",
        "# Define a simple route\n",
        "@app.route(\"/\")\n",
        "def home():\n",
        "    return \"Hello, Flask from Google Colab!\"\n",
        "\n",
        "# Open a tunnel on port 5000\n",
        "public_url = ngrok.connect(5000)\n",
        "print(\"Public URL:\", public_url)\n",
        "\n",
        "# Run the Flask app\n",
        "app.run(port=5000)\n"
      ],
      "metadata": {
        "colab": {
          "base_uri": "https://localhost:8080/",
          "height": 211
        },
        "id": "eEgJYQNEFVst",
        "outputId": "15b16e59-ac87-42d3-c0d7-c3f7101650f9"
      },
      "execution_count": null,
      "outputs": [
        {
          "output_type": "error",
          "ename": "NameError",
          "evalue": "name '_name_' is not defined",
          "traceback": [
            "\u001b[0;31m---------------------------------------------------------------------------\u001b[0m",
            "\u001b[0;31mNameError\u001b[0m                                 Traceback (most recent call last)",
            "\u001b[0;32m/tmp/ipython-input-6-1195460474.py\u001b[0m in \u001b[0;36m<cell line: 0>\u001b[0;34m()\u001b[0m\n\u001b[1;32m      3\u001b[0m \u001b[0;34m\u001b[0m\u001b[0m\n\u001b[1;32m      4\u001b[0m \u001b[0;31m# Create Flask app\u001b[0m\u001b[0;34m\u001b[0m\u001b[0;34m\u001b[0m\u001b[0m\n\u001b[0;32m----> 5\u001b[0;31m \u001b[0mapp\u001b[0m \u001b[0;34m=\u001b[0m \u001b[0mFlask\u001b[0m\u001b[0;34m(\u001b[0m\u001b[0m_name_\u001b[0m\u001b[0;34m)\u001b[0m\u001b[0;34m\u001b[0m\u001b[0;34m\u001b[0m\u001b[0m\n\u001b[0m\u001b[1;32m      6\u001b[0m \u001b[0;34m\u001b[0m\u001b[0m\n\u001b[1;32m      7\u001b[0m \u001b[0;31m# Define a simple route\u001b[0m\u001b[0;34m\u001b[0m\u001b[0;34m\u001b[0m\u001b[0m\n",
            "\u001b[0;31mNameError\u001b[0m: name '_name_' is not defined"
          ]
        }
      ]
    },
    {
      "cell_type": "code",
      "source": [],
      "metadata": {
        "id": "Gls6pi1jahYk"
      },
      "execution_count": null,
      "outputs": []
    }
  ],
  "metadata": {
    "colab": {
      "provenance": []
    },
    "kernelspec": {
      "display_name": "Python 3",
      "name": "python3"
    },
    "language_info": {
      "name": "python"
    }
  },
  "nbformat": 4,
  "nbformat_minor": 0
}